{
 "cells": [
  {
   "cell_type": "markdown",
   "id": "0",
   "metadata": {},
   "source": [
    "# Acces to catalogue in google cloud bucket"
   ]
  },
  {
   "cell_type": "code",
   "execution_count": null,
   "id": "1",
   "metadata": {},
   "outputs": [],
   "source": [
    "from google.cloud import storage\n",
    "import os"
   ]
  },
  {
   "cell_type": "code",
   "execution_count": null,
   "id": "2",
   "metadata": {},
   "outputs": [],
   "source": [
    "from google.cloud import storage\n",
    "\n",
    "def get_storage_client():\n",
    "    return storage.Client()  # No explicit credentials needed!\n",
    "\n",
    "def list_images(bucket_name):\n",
    "    client = storage.Client()  # Uses ADC automatically\n",
    "    bucket = client.bucket(bucket_name)\n",
    "    blobs = bucket.list_blobs()\n",
    "    \n",
    "    images = []\n",
    "    for blob in blobs:\n",
    "        if blob.name.lower().endswith(('.png', '.jpg', '.jpeg', '.gif', '.webp', '.bmp', '.tiff')):\n",
    "            url = f\"https://storage.googleapis.com/{bucket_name}/{blob.name}\"\n",
    "            images.append({\n",
    "                'name': blob.name,\n",
    "                'url': url\n",
    "            })\n",
    "    return images"
   ]
  },
  {
   "cell_type": "code",
   "execution_count": null,
   "id": "3",
   "metadata": {},
   "outputs": [],
   "source": [
    "images = list_images('catalogue_hm')"
   ]
  },
  {
   "cell_type": "code",
   "execution_count": null,
   "id": "4",
   "metadata": {},
   "outputs": [],
   "source": [
    "images"
   ]
  },
  {
   "cell_type": "code",
   "execution_count": null,
   "id": "5",
   "metadata": {},
   "outputs": [],
   "source": []
  },
  {
   "cell_type": "code",
   "execution_count": null,
   "id": "6",
   "metadata": {},
   "outputs": [],
   "source": [
    "test = \"https://storage.googleapis.com/catalogue_hm/images/010/0108775015.jpg\""
   ]
  },
  {
   "cell_type": "code",
   "execution_count": null,
   "id": "7",
   "metadata": {},
   "outputs": [],
   "source": [
    "import requests\n",
    "from PIL import Image\n",
    "from io import BytesIO\n",
    "\n",
    "def load_image_from_url(url):\n",
    "    response = requests.get(url)\n",
    "    image = Image.open(BytesIO(response.content))\n",
    "    return image\n",
    "\n",
    "image_url = \"https://storage.googleapis.com/your-bucket/image.jpg\" \n",
    "image = load_image_from_url(image_url)"
   ]
  },
  {
   "cell_type": "code",
   "execution_count": null,
   "id": "8",
   "metadata": {},
   "outputs": [],
   "source": [
    "import requests\n",
    "from io import BytesIO\n",
    "from PIL import Image\n",
    "\n",
    "def load_image_from_url(url):\n",
    "    response = requests.get(url)\n",
    "    image = Image.open(BytesIO(response.content))\n",
    "    return image\n",
    "\n",
    "image = load_image_from_url(test)"
   ]
  },
  {
   "cell_type": "code",
   "execution_count": null,
   "id": "9",
   "metadata": {},
   "outputs": [],
   "source": [
    "image"
   ]
  },
  {
   "cell_type": "code",
   "execution_count": null,
   "id": "10",
   "metadata": {},
   "outputs": [],
   "source": [
    "\n",
    "# Check if the environment variable exists\n",
    "if 'GOOGLE_APPLICATION_CREDENTIALS' in os.environ:\n",
    "    print(\"GOOGLE_APPLICATION_CREDENTIALS is set\")\n",
    "    print(f\"Value: {os.environ['GOOGLE_APPLICATION_CREDENTIALS']}\")\n",
    "else:\n",
    "    print(\"GOOGLE_APPLICATION_CREDENTIALS is not set\")"
   ]
  },
  {
   "cell_type": "markdown",
   "id": "11",
   "metadata": {},
   "source": []
  }
 ],
 "metadata": {
  "kernelspec": {
   "display_name": "my-mirror-on-cloud-py3.12",
   "language": "python",
   "name": "python3"
  },
  "language_info": {
   "codemirror_mode": {
    "name": "ipython",
    "version": 3
   },
   "file_extension": ".py",
   "mimetype": "text/x-python",
   "name": "python",
   "nbconvert_exporter": "python",
   "pygments_lexer": "ipython3",
   "version": "3.12.11"
  }
 },
 "nbformat": 4,
 "nbformat_minor": 5
}
