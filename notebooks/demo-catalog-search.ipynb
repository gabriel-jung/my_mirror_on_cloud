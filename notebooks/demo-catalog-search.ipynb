{
 "cells": [
  {
   "cell_type": "markdown",
   "id": "0",
   "metadata": {},
   "source": [
    "# Testing to search in Weaviate H&M catalogue"
   ]
  },
  {
   "cell_type": "code",
   "execution_count": null,
   "id": "1",
   "metadata": {},
   "outputs": [],
   "source": [
    "import pandas as pd\n",
    "\n",
    "from pathlib import Path\n",
    "\n",
    "from tqdm.notebook import tqdm\n",
    "\n",
    "import matplotlib.pyplot as plt\n",
    "import matplotlib.image as mpimg\n",
    "\n",
    "import requests\n",
    "from io import BytesIO\n",
    "from PIL import Image"
   ]
  },
  {
   "cell_type": "code",
   "execution_count": null,
   "id": "2",
   "metadata": {},
   "outputs": [],
   "source": [
    "%load_ext autoreload\n",
    "%autoreload 2"
   ]
  },
  {
   "cell_type": "code",
   "execution_count": null,
   "id": "3",
   "metadata": {},
   "outputs": [],
   "source": [
    "import my_mirror_on_cloud.embedding_manager as em\n",
    "import my_mirror_on_cloud.weaviate_manager as wm"
   ]
  },
  {
   "cell_type": "code",
   "execution_count": null,
   "id": "4",
   "metadata": {},
   "outputs": [],
   "source": [
    "from my_mirror_on_cloud.utils import clean_name"
   ]
  },
  {
   "cell_type": "markdown",
   "id": "5",
   "metadata": {},
   "source": [
    "### Search by Text Query using FashionCLIP"
   ]
  },
  {
   "cell_type": "code",
   "execution_count": null,
   "id": "6",
   "metadata": {},
   "outputs": [],
   "source": [
    "## Query parameters\n",
    "query = \"red dress with white dots\"\n",
    "model = \"fashion-clip\"\n",
    "collection = \"catalogue_HM\"\n",
    "limit=5\n",
    "\n",
    "## Get the vector for the query\n",
    "embedder = em.create_embedder(model_name=model)\n",
    "query_vector = embedder.encode_texts([query], batch_size=1)[0] \n",
    "\n",
    "## Search Weaviate\n",
    "with wm.WeaviateManager() as wmgr:\n",
    "    results = wmgr.search_by_vector(\n",
    "        query_vector,\n",
    "        limit=limit,\n",
    "        target_vector=f\"embedding_{clean_name(model)}\",\n",
    "        collection_name=collection,\n",
    "    )"
   ]
  },
  {
   "cell_type": "code",
   "execution_count": null,
   "id": "7",
   "metadata": {},
   "outputs": [],
   "source": [
    "def get_url_from_image_path(image_path):\n",
    "    base = Path('../data/h-and-m-personalized-fashion-recommendations')\n",
    "    relative_path = Path(image_path).relative_to(base)\n",
    "    base_url = \"https://storage.googleapis.com/catalogue_hm/\"\n",
    "    return base_url + str(relative_path)\n",
    "\n",
    "def load_image_from_url(url):\n",
    "    response = requests.get(url)\n",
    "    image = Image.open(BytesIO(response.content))\n",
    "    return image"
   ]
  },
  {
   "cell_type": "code",
   "execution_count": null,
   "id": "8",
   "metadata": {},
   "outputs": [],
   "source": [
    "cols=5\n",
    "rows=cols//limit\n",
    "fig, axes = plt.subplots(rows, cols, figsize=(2*cols, 2*rows))\n",
    "axes = axes.flatten()  \n",
    "\n",
    "# images = [item.properties[\"image_path\"] for item in results.objects] ## version for local files\n",
    "images = [get_url_from_image_path(item.properties[\"image_path\"]) for item in results.objects] ## version for cloud files\n",
    "\n",
    "for i, ax in enumerate(axes):\n",
    "    # img = mpimg.imread(str(images[i]))\n",
    "    img = load_image_from_url(images[i])\n",
    "    ax.imshow(img)\n",
    "    ax.set_title(Path(f\"{images[i]}\").name, fontsize=8)  \n",
    "    ax.axis('off')  \n",
    "else:\n",
    "    ax.axis('off')  \n",
    "\n",
    "plt.tight_layout()\n",
    "plt.show()"
   ]
  },
  {
   "cell_type": "code",
   "execution_count": null,
   "id": "9",
   "metadata": {},
   "outputs": [],
   "source": [
    "## Query parameters\n",
    "query = \"red dress with white dots\"\n",
    "model = \"fashion-clip\"\n",
    "collection = \"catalogue_HM\"\n",
    "limit=5\n",
    "\n",
    "## Get the vector for the query\n",
    "embedder = em.create_embedder(model_name=model)\n",
    "query_vector = embedder.encode_texts([query], batch_size=1)[0] \n",
    "\n",
    "## Search Weaviate\n",
    "with wm.WeaviateManager() as wmgr:\n",
    "    results = wmgr.search_by_vector(\n",
    "        query_vector,\n",
    "        limit=limit,\n",
    "        target_vector=f\"embedding_{clean_name(model)}\",\n",
    "        collection_name=collection,\n",
    "    )"
   ]
  },
  {
   "cell_type": "code",
   "execution_count": null,
   "id": "10",
   "metadata": {},
   "outputs": [],
   "source": [
    "## Query parameters\n",
    "query = \"red dress with white dots\"\n",
    "model = \"fashion-clip\"\n",
    "collection = \"catalogue_HM\"\n",
    "limit=5\n",
    "properties=[\"product_type_original\", \"colour_original\"] ## properties to look for exact match\n",
    "alpha=0.5\n",
    "\n",
    "## Get the vector for the query\n",
    "embedder = em.create_embedder(model_name=model)\n",
    "query_vector = embedder.encode_texts([query], batch_size=1)[0] \n",
    "\n",
    "## Search Weaviate\n",
    "with wm.WeaviateManager() as wmgr:\n",
    "    results = wmgr.search_hybrid(\n",
    "        query=query,\n",
    "        vector=query_vector,\n",
    "        collection_name=collection,\n",
    "        target_vector=f\"embedding_{clean_name(model)}\",\n",
    "        alpha=alpha,\n",
    "        limit=limit,\n",
    "        query_properties=properties\n",
    "    )"
   ]
  },
  {
   "cell_type": "code",
   "execution_count": null,
   "id": "11",
   "metadata": {},
   "outputs": [],
   "source": [
    "cols=5\n",
    "rows=cols//limit\n",
    "fig, axes = plt.subplots(rows, cols, figsize=(2*cols, 2*rows))\n",
    "axes = axes.flatten()  \n",
    "\n",
    "# images = [item.properties[\"image_path\"] for item in results.objects] ## version for local files\n",
    "images = [get_url_from_image_path(item.properties[\"image_path\"]) for item in results.objects] ## version for cloud files\n",
    "\n",
    "for i, ax in enumerate(axes):\n",
    "    # img = mpimg.imread(str(images[i]))\n",
    "    img = load_image_from_url(images[i])\n",
    "    ax.imshow(img)\n",
    "    ax.set_title(Path(f\"{images[i]}\").name, fontsize=8)  \n",
    "    ax.axis('off')  \n",
    "else:\n",
    "    ax.axis('off')  \n",
    "\n",
    "plt.tight_layout()\n",
    "plt.show()"
   ]
  },
  {
   "cell_type": "markdown",
   "id": "12",
   "metadata": {},
   "source": [
    "### Search from an image "
   ]
  },
  {
   "cell_type": "code",
   "execution_count": null,
   "id": "13",
   "metadata": {},
   "outputs": [],
   "source": [
    "## Query parameters\n",
    "query = \"../data/farfetch/images/12809784_3.jpg\" ### image relative path\n",
    "model = \"fashion-clip\"\n",
    "collection = \"catalogue_HM\"\n",
    "limit=5\n",
    "\n",
    "## Get the vector for the query\n",
    "embedder = em.create_embedder(model_name=model)\n",
    "query_vector = embedder.encode_images([query], batch_size=1)[0] \n",
    "\n",
    "## Search Weaviate\n",
    "with wm.WeaviateManager() as wmgr:\n",
    "    results = wmgr.search_by_vector(\n",
    "        query_vector,\n",
    "        limit=limit,\n",
    "        target_vector=f\"embedding_{clean_name(model)}\",\n",
    "        collection_name=collection,\n",
    "    )"
   ]
  },
  {
   "cell_type": "code",
   "execution_count": null,
   "id": "14",
   "metadata": {},
   "outputs": [],
   "source": [
    "cols=6\n",
    "rows=cols//limit\n",
    "fig, axes = plt.subplots(rows, cols, figsize=(2*cols, 2*rows))\n",
    "axes = axes.flatten()  \n",
    "\n",
    "images = [query]  # First image is the query image\n",
    "images += [item.properties[\"image_path\"] for item in results.objects]\n",
    "for i, ax in enumerate(axes):\n",
    "    img = mpimg.imread(str(images[i]))\n",
    "    ax.imshow(img)\n",
    "    ax.set_title(Path(f\"{images[i]}\").name, fontsize=8)  \n",
    "    ax.axis('off')  \n",
    "    if i==0:\n",
    "        ax.set_title(\"Query\", fontsize=8) \n",
    "    else:\n",
    "        ax.set_title(Path(f\"{images[i]}\").name, fontsize=8)  \n",
    " \n",
    "else:\n",
    "    ax.axis('off')  \n",
    "\n",
    "plt.tight_layout()\n",
    "plt.show()"
   ]
  },
  {
   "cell_type": "code",
   "execution_count": null,
   "id": "15",
   "metadata": {},
   "outputs": [],
   "source": [
    "## Query parameters\n",
    "text = \"red dress\"\n",
    "image_query = \"../data/farfetch/images/12809784_3.jpg\" ### image relative path\n",
    "model = \"fashion-clip\"\n",
    "collection = \"catalogue_HM\"\n",
    "limit=5\n",
    "properties=[\"product_type_original\", \"colour_original\"] ## properties to look for exact match\n",
    "alpha=0.5\n",
    "\n",
    "## Get the vector for the query\n",
    "embedder = em.create_embedder(model_name=model)\n",
    "query_vector = embedder.encode_images([query], batch_size=1)[0] \n",
    "\n",
    "## Search Weaviate\n",
    "with wm.WeaviateManager() as wmgr:\n",
    "    results = wmgr.search_hybrid(\n",
    "        query=text,\n",
    "        vector=query_vector,\n",
    "        collection_name=collection,\n",
    "        target_vector=f\"embedding_{clean_name(model)}\",\n",
    "        alpha=alpha,\n",
    "        limit=limit,\n",
    "        query_properties=properties\n",
    "    )"
   ]
  },
  {
   "cell_type": "code",
   "execution_count": null,
   "id": "16",
   "metadata": {},
   "outputs": [],
   "source": [
    "cols=6\n",
    "rows=cols//limit\n",
    "fig, axes = plt.subplots(rows, cols, figsize=(2*cols, 2*rows))\n",
    "axes = axes.flatten()  \n",
    "\n",
    "images = [query]  # First image is the query image\n",
    "images += [get_url_from_image_path(item.properties[\"image_path\"]) for item in results.objects] ## version for cloud files\n",
    "\n",
    "for i, ax in enumerate(axes):\n",
    "    # img = mpimg.imread(str(images[i]))\n",
    "    img = load_image_from_url(images[i]) if i>0 else mpimg.imread(str(images[i]))\n",
    "    ax.imshow(img)\n",
    "    ax.set_title(Path(f\"{images[i]}\").name, fontsize=8)  \n",
    "    ax.axis('off')  \n",
    "    if i==0:\n",
    "        ax.set_title(\"Query\", fontsize=8) \n",
    "    else:\n",
    "        ax.set_title(Path(f\"{images[i]}\").name, fontsize=8)  \n",
    " \n",
    "else:\n",
    "    ax.axis('off')  \n",
    "\n",
    "plt.tight_layout()\n",
    "plt.show()"
   ]
  },
  {
   "cell_type": "code",
   "execution_count": null,
   "id": "17",
   "metadata": {},
   "outputs": [],
   "source": []
  }
 ],
 "metadata": {
  "kernelspec": {
   "display_name": "my-mirror-on-cloud-py3.12",
   "language": "python",
   "name": "python3"
  },
  "language_info": {
   "codemirror_mode": {
    "name": "ipython",
    "version": 3
   },
   "file_extension": ".py",
   "mimetype": "text/x-python",
   "name": "python",
   "nbconvert_exporter": "python",
   "pygments_lexer": "ipython3",
   "version": "3.12.11"
  }
 },
 "nbformat": 4,
 "nbformat_minor": 5
}
