{
 "cells": [
  {
   "cell_type": "markdown",
   "id": "0",
   "metadata": {},
   "source": [
    "## Testing the embedding_manager.py module\n",
    "\n",
    "For clothing image vectorization"
   ]
  },
  {
   "cell_type": "code",
   "execution_count": null,
   "id": "1",
   "metadata": {},
   "outputs": [],
   "source": [
    "%load_ext autoreload\n",
    "%autoreload 2"
   ]
  },
  {
   "cell_type": "code",
   "execution_count": null,
   "id": "2",
   "metadata": {},
   "outputs": [],
   "source": [
    "import my_mirror_on_cloud.embedding_manager as em"
   ]
  },
  {
   "cell_type": "code",
   "execution_count": null,
   "id": "3",
   "metadata": {},
   "outputs": [],
   "source": [
    "from tqdm.notebook import tqdm"
   ]
  },
  {
   "cell_type": "markdown",
   "id": "4",
   "metadata": {},
   "source": [
    "## Get H&M DATA"
   ]
  },
  {
   "cell_type": "code",
   "execution_count": null,
   "id": "5",
   "metadata": {},
   "outputs": [],
   "source": [
    "# Get images\n",
    "from pathlib import Path\n",
    "image_paths = Path('../data/h-and-m-personalized-fashion-recommendations/images').rglob('*.jpg')\n",
    "image_list = [str(p) for p in image_paths]\n",
    "print(f\"Found {len(image_list)} images, {image_list[0]}\")"
   ]
  },
  {
   "cell_type": "markdown",
   "id": "6",
   "metadata": {},
   "source": [
    "## Simple vectorization"
   ]
  },
  {
   "cell_type": "code",
   "execution_count": null,
   "id": "7",
   "metadata": {},
   "outputs": [],
   "source": [
    "## Quick test on 10 images\n",
    "\n",
    "test_vectors = em.vectorize_images(\n",
    "    image_list[:1], model_name=\"fashion-clip\", batch_size=32, max_width=256, use_float16=True\n",
    ")"
   ]
  },
  {
   "cell_type": "code",
   "execution_count": null,
   "id": "8",
   "metadata": {},
   "outputs": [],
   "source": [
    "test_vectors = em.vectorize_images(\n",
    "    image_list[:1], model_name=\"fashion-clip\", batch_size=32, max_width=2056, use_float16=True\n",
    ")"
   ]
  },
  {
   "cell_type": "code",
   "execution_count": null,
   "id": "9",
   "metadata": {},
   "outputs": [],
   "source": [
    "test_vectors[0][\"embedding\"]"
   ]
  },
  {
   "cell_type": "code",
   "execution_count": null,
   "id": "10",
   "metadata": {},
   "outputs": [],
   "source": [
    "# Without preprocessing\n",
    "\n",
    "import time\n",
    "# With preprocessing  \n",
    "start = time.time()\n",
    "embeddings2 = em.vectorize_images(\n",
    "    image_list[:100], model_name=\"fashion-clip\", batch_size=32, use_float16=True\n",
    ")\n",
    "time_without = time.time() - start"
   ]
  },
  {
   "cell_type": "code",
   "execution_count": null,
   "id": "11",
   "metadata": {},
   "outputs": [],
   "source": [
    "# With preprocessing  \n",
    "start = time.time()\n",
    "embeddings2 = em.vectorize_images(\n",
    "    image_list[:100], model_name=\"fashion-clip\", batch_size=32, max_width=256, use_float16=True\n",
    ")\n",
    "time_with = time.time() - start\n",
    "\n",
    "print(f\"Without preprocessing: {time_without:.2f}s\")\n",
    "print(f\"With preprocessing: {time_with:.2f}s\")"
   ]
  },
  {
   "cell_type": "code",
   "execution_count": null,
   "id": "12",
   "metadata": {},
   "outputs": [],
   "source": [
    "embeddings2[0]"
   ]
  },
  {
   "cell_type": "markdown",
   "id": "13",
   "metadata": {},
   "source": [
    "## More vectors"
   ]
  },
  {
   "cell_type": "code",
   "execution_count": null,
   "id": "14",
   "metadata": {},
   "outputs": [],
   "source": [
    "import my_mirror_on_cloud.vector_store as vs"
   ]
  },
  {
   "cell_type": "code",
   "execution_count": null,
   "id": "15",
   "metadata": {},
   "outputs": [],
   "source": [
    "store = vs.LocalCatalogStore(db_path=\"../data/catalogue_v1.db\")"
   ]
  },
  {
   "cell_type": "code",
   "execution_count": null,
   "id": "16",
   "metadata": {},
   "outputs": [],
   "source": [
    "batch_size = 32\n",
    "max_files = 1000\n",
    "model_name = \"fashion-clip\"\n",
    "force_update = False\n",
    "\n",
    "batch_path = []\n",
    "for img_path in tqdm(image_list[:]):\n",
    "    if store.is_model_processed(img_path, model_name) and not force_update:\n",
    "        continue\n",
    "    batch_path.append(img_path)\n",
    "    if len(batch_path) == max_files or img_path == image_list[-1]:\n",
    "        embeddings = em.vectorize_images(\n",
    "            batch_path, model_name=model_name, batch_size=batch_size, use_float16=True,\n",
    "        )\n",
    "        for item in embeddings:\n",
    "            processing_status = em.get_processing_status(item)\n",
    "            embedding = em.get_embeddings_from_analysis(item)\n",
    "            store.insert_image(\n",
    "                item[\"image_path\"],\n",
    "                processing=processing_status,\n",
    "                embeddings=embedding,\n",
    "                force_update=True\n",
    "            )\n",
    "\n",
    "        batch_path = []"
   ]
  },
  {
   "cell_type": "code",
   "execution_count": null,
   "id": "17",
   "metadata": {},
   "outputs": [],
   "source": [
    "# import sqlite3\n",
    "# import shutil\n",
    "\n",
    "# def migrate_embeddings_empty_column(db_path: str):\n",
    "#     \"\"\"\n",
    "#     Migrate table structure when embedding column is empty.\n",
    "#     Keeps all data except the old embedding column.\n",
    "#     \"\"\"\n",
    "    \n",
    "#     # Step 1: Create backup\n",
    "#     backup_path = db_path + \".backup\"\n",
    "#     shutil.copy2(db_path, backup_path)\n",
    "#     print(f\"✅ Backup created at: {backup_path}\")\n",
    "\n",
    "#     conn = sqlite3.connect(db_path)\n",
    "#     cur = conn.cursor()\n",
    "\n",
    "#     try:\n",
    "#         # Step 2: Begin migration\n",
    "#         cur.execute(\"PRAGMA foreign_keys=off;\")\n",
    "#         cur.execute(\"BEGIN TRANSACTION;\")\n",
    "        \n",
    "#         # Step 3: Rename old table\n",
    "#         cur.execute(\"ALTER TABLE images RENAME TO images_old;\")\n",
    "        \n",
    "#         # Step 4: Create new table with updated schema\n",
    "#         cur.execute(\"\"\"\n",
    "#         CREATE TABLE images (\n",
    "#             id INTEGER PRIMARY KEY AUTOINCREMENT,\n",
    "#             image_path TEXT NOT NULL,\n",
    "#             image_hash TEXT UNIQUE NOT NULL,\n",
    "#             embeddings BLOB NULL,                    -- New BLOB column for multiple embeddings\n",
    "#             tags TEXT DEFAULT '[]',                  \n",
    "#             processing_status TEXT DEFAULT '{}',     \n",
    "#             date_added TIMESTAMP DEFAULT CURRENT_TIMESTAMP\n",
    "#         );\n",
    "#         \"\"\")\n",
    "        \n",
    "#         # Step 5: Copy data (excluding old empty embedding column)\n",
    "#         cur.execute(\"\"\"\n",
    "#         INSERT INTO images (id, image_path, image_hash, tags, processing_status, date_added)\n",
    "#         SELECT id, image_path, image_hash, tags, processing_status, date_added\n",
    "#         FROM images_old;\n",
    "#         \"\"\")\n",
    "        \n",
    "#         # Step 6: Clean up\n",
    "#         cur.execute(\"DROP TABLE images_old;\")\n",
    "#         cur.execute(\"COMMIT;\")\n",
    "#         cur.execute(\"PRAGMA foreign_keys=on;\")\n",
    "        \n",
    "#         print(\"✅ Migration completed successfully!\")\n",
    "#         print(\"📊 All data preserved, new embeddings column ready for use\")\n",
    "        \n",
    "#     except Exception as e:\n",
    "#         cur.execute(\"ROLLBACK;\")\n",
    "#         print(f\"❌ Migration failed: {e}\")\n",
    "#         # Restore from backup\n",
    "#         shutil.copy2(backup_path, db_path)\n",
    "#         raise\n",
    "        \n",
    "#     finally:\n",
    "#         conn.close()\n",
    "\n",
    "# # Usage\n",
    "# migrate_embeddings_empty_column(\"../data/catalogue_v1.db\")"
   ]
  },
  {
   "cell_type": "code",
   "execution_count": null,
   "id": "18",
   "metadata": {},
   "outputs": [],
   "source": [
    "store.get_image_by_path(image_list[0])[\"processing_status\"]"
   ]
  },
  {
   "cell_type": "code",
   "execution_count": null,
   "id": "19",
   "metadata": {},
   "outputs": [],
   "source": [
    "processing_status.keys()"
   ]
  }
 ],
 "metadata": {
  "kernelspec": {
   "display_name": "my-mirror-on-cloud-py3.12",
   "language": "python",
   "name": "python3"
  },
  "language_info": {
   "codemirror_mode": {
    "name": "ipython",
    "version": 3
   },
   "file_extension": ".py",
   "mimetype": "text/x-python",
   "name": "python",
   "nbconvert_exporter": "python",
   "pygments_lexer": "ipython3",
   "version": "3.12.11"
  }
 },
 "nbformat": 4,
 "nbformat_minor": 5
}
