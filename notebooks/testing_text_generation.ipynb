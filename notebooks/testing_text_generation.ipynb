{
 "cells": [
  {
   "cell_type": "markdown",
   "id": "0",
   "metadata": {},
   "source": [
    "## Illustrating the text_generation.py module"
   ]
  },
  {
   "cell_type": "markdown",
   "id": "1",
   "metadata": {},
   "source": [
    "### Package imports"
   ]
  },
  {
   "cell_type": "code",
   "execution_count": null,
   "id": "2",
   "metadata": {},
   "outputs": [],
   "source": [
    "%load_ext autoreload\n",
    "%autoreload 2"
   ]
  },
  {
   "cell_type": "code",
   "execution_count": null,
   "id": "3",
   "metadata": {},
   "outputs": [],
   "source": [
    "import my_mirror_on_cloud.text_generation as tg "
   ]
  },
  {
   "cell_type": "code",
   "execution_count": null,
   "id": "4",
   "metadata": {},
   "outputs": [],
   "source": [
    "from pprint import pprint\n",
    "import pickle"
   ]
  },
  {
   "cell_type": "code",
   "execution_count": null,
   "id": "5",
   "metadata": {},
   "outputs": [],
   "source": [
    "import matplotlib.pyplot as plt\n",
    "import matplotlib.image as mpimg\n",
    "\n",
    "%matplotlib inline"
   ]
  },
  {
   "cell_type": "markdown",
   "id": "6",
   "metadata": {},
   "source": [
    "### Simple Ollama calls"
   ]
  },
  {
   "cell_type": "code",
   "execution_count": null,
   "id": "7",
   "metadata": {},
   "outputs": [],
   "source": [
    "example_image1 =  \"../data/h-and-m-personalized-fashion-recommendations/images/093/0930409001.jpg\"\n",
    "\n",
    "example_image2 = \"../data/farfetch/images/13209311_1.jpg\""
   ]
  },
  {
   "cell_type": "code",
   "execution_count": null,
   "id": "8",
   "metadata": {},
   "outputs": [],
   "source": [
    "fig, axes = plt.subplots(1, 2, figsize=(3, 3))\n",
    "\n",
    "img = mpimg.imread(example_image1)\n",
    "axes[0].imshow(img)\n",
    "axes[0].axis('off')  \n",
    "\n",
    "img = mpimg.imread(example_image2)\n",
    "axes[1].imshow(img)\n",
    "axes[1].axis('off')  \n",
    "\n",
    "plt.tight_layout()\n",
    "plt.show()"
   ]
  },
  {
   "cell_type": "code",
   "execution_count": null,
   "id": "9",
   "metadata": {},
   "outputs": [],
   "source": [
    "## Starting with a simple description\n",
    "simple_description = tg.analyze_clothing_image(\n",
    "        example_image1,\n",
    "        model_name=\"qwen2.5vl:7b\",\n",
    "        prompt_type=\"description_only\",\n",
    "        max_width=256,\n",
    "    )\n",
    "pprint(simple_description)"
   ]
  },
  {
   "cell_type": "code",
   "execution_count": null,
   "id": "10",
   "metadata": {},
   "outputs": [],
   "source": [
    "print(simple_description[\"parsed_data\"])"
   ]
  },
  {
   "cell_type": "code",
   "execution_count": null,
   "id": "11",
   "metadata": {},
   "outputs": [],
   "source": [
    "simple_description2 = tg.analyze_clothing_image(\n",
    "        example_image2,\n",
    "        model_name=\"qwen2.5vl:7b\",\n",
    "        prompt_type=\"description_only\",\n",
    "        max_width=256,\n",
    "    )\n",
    "pprint(simple_description2)\n"
   ]
  },
  {
   "cell_type": "code",
   "execution_count": null,
   "id": "12",
   "metadata": {},
   "outputs": [],
   "source": [
    "print(simple_description2[\"parsed_data\"])"
   ]
  },
  {
   "cell_type": "code",
   "execution_count": null,
   "id": "13",
   "metadata": {},
   "outputs": [],
   "source": [
    "# ## testing different image sizes (much faster below 256)\n",
    "# for max_width in [128, 256, 512, 1024]:\n",
    "#     test = tg.analyze_clothing_image(\n",
    "#         example_image,\n",
    "#         model_name=\"qwen2.5vl:7b\",\n",
    "#         prompt_type=\"description_only\",\n",
    "#         max_width=max_width,\n",
    "#     )\n",
    "#     print(\n",
    "#         f\"Max width: {max_width}, Success: {test['success']}, Duration: {test['duration']:.2f}s\"\n",
    "#     )\n",
    "#     print(test[\"content\"])\n",
    "#     print(\"\\n\\n\")"
   ]
  },
  {
   "cell_type": "code",
   "execution_count": null,
   "id": "14",
   "metadata": {},
   "outputs": [],
   "source": [
    "## to obtain tags, need to load a dictionary of predefined clothing categories\n",
    "with open('../tags/tags_v1.pkl', 'rb') as f:\n",
    "    clothing_categories = pickle.load(f)"
   ]
  },
  {
   "cell_type": "code",
   "execution_count": null,
   "id": "15",
   "metadata": {},
   "outputs": [],
   "source": [
    "categorized = tg.analyze_clothing_image(\n",
    "        example_image1,\n",
    "        model_name=\"qwen2.5vl:7b\",\n",
    "        prompt_type=\"categorized\",\n",
    "        clothing_categories=clothing_categories,\n",
    "        max_width=256,\n",
    "    )\n",
    "pprint(categorized)"
   ]
  },
  {
   "cell_type": "code",
   "execution_count": null,
   "id": "16",
   "metadata": {},
   "outputs": [],
   "source": [
    "print(categorized[\"parsed_data\"])"
   ]
  },
  {
   "cell_type": "code",
   "execution_count": null,
   "id": "17",
   "metadata": {},
   "outputs": [],
   "source": [
    "categorized2 = tg.analyze_clothing_image(\n",
    "        example_image2,\n",
    "        model_name=\"qwen2.5vl:7b\",\n",
    "        prompt_type=\"categorized\",\n",
    "        clothing_categories=clothing_categories,\n",
    "        max_width=256,\n",
    "    )\n",
    "pprint(categorized2)"
   ]
  },
  {
   "cell_type": "code",
   "execution_count": null,
   "id": "18",
   "metadata": {},
   "outputs": [],
   "source": [
    "categorized2[\"parsed_data\"]"
   ]
  },
  {
   "cell_type": "code",
   "execution_count": null,
   "id": "19",
   "metadata": {},
   "outputs": [],
   "source": []
  }
 ],
 "metadata": {
  "kernelspec": {
   "display_name": "mirror",
   "language": "python",
   "name": "python3"
  },
  "language_info": {
   "codemirror_mode": {
    "name": "ipython",
    "version": 3
   },
   "file_extension": ".py",
   "mimetype": "text/x-python",
   "name": "python",
   "nbconvert_exporter": "python",
   "pygments_lexer": "ipython3",
   "version": "3.12.11"
  }
 },
 "nbformat": 4,
 "nbformat_minor": 5
}
