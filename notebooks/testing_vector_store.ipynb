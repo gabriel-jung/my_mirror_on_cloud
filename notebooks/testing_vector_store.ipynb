{
 "cells": [
  {
   "cell_type": "markdown",
   "id": "0",
   "metadata": {},
   "source": [
    "## Testing vector_store.py module\n",
    "\n",
    "for handling local sqlite db and weaviate collections"
   ]
  },
  {
   "cell_type": "code",
   "execution_count": null,
   "id": "1",
   "metadata": {},
   "outputs": [],
   "source": [
    "%load_ext autoreload\n",
    "%autoreload 2"
   ]
  },
  {
   "cell_type": "code",
   "execution_count": null,
   "id": "2",
   "metadata": {},
   "outputs": [],
   "source": [
    "import my_mirror_on_cloud.vector_store as vs\n",
    "import my_mirror_on_cloud.text_generation as tg"
   ]
  },
  {
   "cell_type": "code",
   "execution_count": null,
   "id": "3",
   "metadata": {},
   "outputs": [],
   "source": [
    "# Initialize the local catalog store\n",
    "store = vs.LocalCatalogStore(db_path=\"../data/catalogue_v1.db\")\n",
    "store"
   ]
  },
  {
   "cell_type": "code",
   "execution_count": null,
   "id": "4",
   "metadata": {},
   "outputs": [],
   "source": [
    "image1 =  \"../data/h-and-m-personalized-fashion-recommendations/images/093/0930409001.jpg\"\n",
    "\n",
    "import matplotlib.pyplot as plt\n",
    "import matplotlib.image as mpimg\n",
    "\n",
    "fig, axes = plt.subplots(1, 1, figsize=(3, 3))\n",
    "\n",
    "img = mpimg.imread(image1)\n",
    "axes.imshow(img)\n",
    "axes.axis('off')  \n",
    "\n",
    "plt.tight_layout()\n",
    "plt.show()"
   ]
  },
  {
   "cell_type": "code",
   "execution_count": null,
   "id": "5",
   "metadata": {},
   "outputs": [],
   "source": [
    "from pprint import pprint\n",
    "\n",
    "description = tg.analyze_clothing_image(\n",
    "        image1,\n",
    "        model_name=\"qwen2.5vl:7b\",\n",
    "        prompt_type=\"description_only\",\n",
    "        max_width=256,\n",
    "    )\n",
    "pprint(description)"
   ]
  },
  {
   "cell_type": "code",
   "execution_count": null,
   "id": "6",
   "metadata": {},
   "outputs": [],
   "source": [
    "tags=tg.get_tags_from_analysis(analysis=description)\n",
    "\n",
    "processing_status = tg.get_processing_status(analysis=description)\n",
    "\n",
    "processing_status, tags"
   ]
  },
  {
   "cell_type": "code",
   "execution_count": null,
   "id": "7",
   "metadata": {},
   "outputs": [],
   "source": [
    "image_id = store.insert_image(image1, tags, processing_status, embedding=None)"
   ]
  },
  {
   "cell_type": "code",
   "execution_count": null,
   "id": "8",
   "metadata": {},
   "outputs": [],
   "source": [
    "store.close()"
   ]
  },
  {
   "cell_type": "markdown",
   "id": "9",
   "metadata": {},
   "source": [
    "## Analyzing the full catalogue!\n",
    "\n"
   ]
  },
  {
   "cell_type": "code",
   "execution_count": null,
   "id": "10",
   "metadata": {},
   "outputs": [],
   "source": [
    "# Get images\n",
    "from pathlib import Path\n",
    "image_paths = Path('../data/h-and-m-personalized-fashion-recommendations/images').rglob('*.jpg')\n",
    "image_list = list(image_paths)\n",
    "print(f\"Found {len(image_list)} images, {image_list[0]}\")"
   ]
  },
  {
   "cell_type": "code",
   "execution_count": null,
   "id": "11",
   "metadata": {},
   "outputs": [],
   "source": [
    "store = vs.LocalCatalogStore(db_path=\"../data/catalogue_v1.db\")"
   ]
  },
  {
   "cell_type": "code",
   "execution_count": null,
   "id": "12",
   "metadata": {},
   "outputs": [],
   "source": [
    "from tqdm.notebook import tqdm"
   ]
  },
  {
   "cell_type": "code",
   "execution_count": null,
   "id": "13",
   "metadata": {},
   "outputs": [],
   "source": [
    "model_name = \"qwen2.5vl:7b\"\n",
    "prompt_type = \"description_only\"\n",
    "\n",
    "for img_path in tqdm(image_list):\n",
    "    img_path_str = str(img_path)\n",
    "    model_name = \"qwen2.5vl:7b\"\n",
    "    \n",
    "    if store.is_model_processed(img_path_str, model_name):\n",
    "        continue\n",
    "\n",
    "    description = tg.analyze_clothing_image(\n",
    "        img_path_str,\n",
    "        model_name=model_name,\n",
    "        max_width=256,\n",
    "        prompt_type=prompt_type,\n",
    "    )\n",
    "    tags = tg.get_tags_from_analysis(analysis=description)\n",
    "    processing_status = tg.get_processing_status(analysis=description)\n",
    "    store.insert_image(img_path_str, tags, processing_status, embedding=None)\n",
    "    \n",
    "    if len(store.get_all_images()) % 100 == 0:\n",
    "        print(f\"Processed {len(store.get_all_images())} images so far.\")\n",
    "\n"
   ]
  },
  {
   "cell_type": "code",
   "execution_count": null,
   "id": "14",
   "metadata": {},
   "outputs": [],
   "source": []
  }
 ],
 "metadata": {
  "kernelspec": {
   "display_name": "mirror",
   "language": "python",
   "name": "python3"
  },
  "language_info": {
   "codemirror_mode": {
    "name": "ipython",
    "version": 3
   },
   "file_extension": ".py",
   "mimetype": "text/x-python",
   "name": "python",
   "nbconvert_exporter": "python",
   "pygments_lexer": "ipython3",
   "version": "3.12.11"
  }
 },
 "nbformat": 4,
 "nbformat_minor": 5
}
