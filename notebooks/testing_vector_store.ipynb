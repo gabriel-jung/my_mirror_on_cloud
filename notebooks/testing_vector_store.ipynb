{
 "cells": [
  {
   "cell_type": "markdown",
   "id": "0",
   "metadata": {},
   "source": [
    "## Testing vector_store.py module\n",
    "\n",
    "for handling local sqlite db and weaviate collections"
   ]
  },
  {
   "cell_type": "code",
   "execution_count": null,
   "id": "1",
   "metadata": {},
   "outputs": [],
   "source": [
    "%load_ext autoreload\n",
    "%autoreload 2"
   ]
  },
  {
   "cell_type": "code",
   "execution_count": null,
   "id": "2",
   "metadata": {},
   "outputs": [],
   "source": [
    "import my_mirror_on_cloud.vector_store as vs\n",
    "import my_mirror_on_cloud.text_generation as tg"
   ]
  },
  {
   "cell_type": "code",
   "execution_count": null,
   "id": "3",
   "metadata": {},
   "outputs": [],
   "source": [
    "# Initialize the local catalog store\n",
    "store = vs.LocalCatalogStore(db_path=\"../data/catalogue_v1.db\")\n",
    "store"
   ]
  },
  {
   "cell_type": "code",
   "execution_count": null,
   "id": "4",
   "metadata": {},
   "outputs": [],
   "source": [
    "image1 =  \"../data/h-and-m-personalized-fashion-recommendations/images/093/0930409001.jpg\"\n",
    "\n",
    "import matplotlib.pyplot as plt\n",
    "import matplotlib.image as mpimg\n",
    "\n",
    "fig, axes = plt.subplots(1, 1, figsize=(3, 3))\n",
    "\n",
    "img = mpimg.imread(image1)\n",
    "axes.imshow(img)\n",
    "axes.axis('off')  \n",
    "\n",
    "plt.tight_layout()\n",
    "plt.show()"
   ]
  },
  {
   "cell_type": "code",
   "execution_count": null,
   "id": "5",
   "metadata": {},
   "outputs": [],
   "source": [
    "from pprint import pprint\n",
    "\n",
    "description = tg.analyze_clothing_image(\n",
    "        image1,\n",
    "        model_name=\"qwen2.5vl:7b\",\n",
    "        prompt_type=\"description_only\",\n",
    "        max_width=256,\n",
    "    )\n",
    "pprint(description)"
   ]
  },
  {
   "cell_type": "code",
   "execution_count": null,
   "id": "6",
   "metadata": {},
   "outputs": [],
   "source": [
    "tags=tg.get_tags_from_analysis(analysis=description)\n",
    "\n",
    "processing_status = tg.get_processing_status(analysis=description)\n",
    "\n",
    "processing_status, tags"
   ]
  },
  {
   "cell_type": "code",
   "execution_count": null,
   "id": "7",
   "metadata": {},
   "outputs": [],
   "source": [
    "image_id = store.insert_image(image1, tags=tags, processing=processing_status, embeddings=None)"
   ]
  },
  {
   "cell_type": "code",
   "execution_count": null,
   "id": "8",
   "metadata": {},
   "outputs": [],
   "source": [
    "store.close()"
   ]
  },
  {
   "cell_type": "markdown",
   "id": "9",
   "metadata": {},
   "source": [
    "## Analyzing the full catalogue!\n",
    "\n"
   ]
  },
  {
   "cell_type": "code",
   "execution_count": null,
   "id": "10",
   "metadata": {},
   "outputs": [],
   "source": [
    "# Get images\n",
    "from pathlib import Path\n",
    "image_paths = Path('../data/h-and-m-personalized-fashion-recommendations/images').rglob('*.jpg')\n",
    "image_list = list(image_paths)\n",
    "print(f\"Found {len(image_list)} images, {image_list[0]}\")"
   ]
  },
  {
   "cell_type": "code",
   "execution_count": null,
   "id": "11",
   "metadata": {},
   "outputs": [],
   "source": [
    "store = vs.LocalCatalogStore(db_path=\"../data/catalogue_v1.db\")"
   ]
  },
  {
   "cell_type": "code",
   "execution_count": null,
   "id": "12",
   "metadata": {},
   "outputs": [],
   "source": [
    "from tqdm.notebook import tqdm"
   ]
  },
  {
   "cell_type": "code",
   "execution_count": null,
   "id": "13",
   "metadata": {},
   "outputs": [],
   "source": [
    "model_name = \"qwen2.5vl:7b\"\n",
    "prompt_type = \"description_only\"\n",
    "\n",
    "for img_path in tqdm(image_list):\n",
    "    img_path_str = str(img_path)\n",
    "    model_name = \"qwen2.5vl:7b\"\n",
    "    \n",
    "    if store.is_model_processed(img_path_str, model_name):\n",
    "        continue\n",
    "\n",
    "    description = tg.analyze_clothing_image(\n",
    "        img_path_str,\n",
    "        model_name=model_name,\n",
    "        max_width=256,\n",
    "        prompt_type=prompt_type,\n",
    "    )\n",
    "    tags = tg.get_tags_from_analysis(analysis=description)\n",
    "    processing_status = tg.get_processing_status(analysis=description)\n",
    "    store.insert_image(img_path_str, tags=tags, processing=processing_status, embeddings=None)\n",
    "\n",
    "    if len(store.get_all_images()) % 100 == 0:\n",
    "        print(f\"Processed {len(store.get_all_images())} images so far.\")\n",
    "\n"
   ]
  },
  {
   "cell_type": "code",
   "execution_count": null,
   "id": "14",
   "metadata": {},
   "outputs": [],
   "source": [
    "print(processing_status)"
   ]
  },
  {
   "cell_type": "markdown",
   "id": "15",
   "metadata": {},
   "source": [
    "## Tags from main catalogue"
   ]
  },
  {
   "cell_type": "code",
   "execution_count": null,
   "id": "16",
   "metadata": {},
   "outputs": [],
   "source": [
    "import pandas as pd"
   ]
  },
  {
   "cell_type": "code",
   "execution_count": null,
   "id": "17",
   "metadata": {},
   "outputs": [],
   "source": [
    "# Get images\n",
    "from pathlib import Path\n",
    "image_paths = Path('../data/h-and-m-personalized-fashion-recommendations/images').rglob('*.jpg')\n",
    "image_list = list(image_paths)\n",
    "print(f\"Found {len(image_list)} images, {image_list[0]}\")"
   ]
  },
  {
   "cell_type": "code",
   "execution_count": null,
   "id": "18",
   "metadata": {},
   "outputs": [],
   "source": [
    "df = pd.read_csv(\"../data/h-and-m-personalized-fashion-recommendations/articles.csv\")\n",
    "df.head()"
   ]
  },
  {
   "cell_type": "code",
   "execution_count": null,
   "id": "19",
   "metadata": {},
   "outputs": [],
   "source": [
    "df.shape, df.columns"
   ]
  },
  {
   "cell_type": "code",
   "execution_count": null,
   "id": "20",
   "metadata": {},
   "outputs": [],
   "source": [
    "df['index_name']"
   ]
  },
  {
   "cell_type": "code",
   "execution_count": null,
   "id": "21",
   "metadata": {},
   "outputs": [],
   "source": [
    "df[\"product_type_name\"].unique()"
   ]
  },
  {
   "cell_type": "code",
   "execution_count": null,
   "id": "22",
   "metadata": {},
   "outputs": [],
   "source": [
    "df[\"colour_group_name\"].unique()"
   ]
  },
  {
   "cell_type": "code",
   "execution_count": null,
   "id": "23",
   "metadata": {},
   "outputs": [],
   "source": [
    "df[\"index_group_name\"].unique()"
   ]
  },
  {
   "cell_type": "code",
   "execution_count": null,
   "id": "24",
   "metadata": {},
   "outputs": [],
   "source": [
    "df[\"genre\"] = df[\"index_group_name\"].map({\n",
    "    \"Menswear\": \"Male\",\n",
    "    \"Ladieswear\": \"Female\",\n",
    "    \"Baby/Children\": \"Child\",\n",
    "    \"Divided\": \"All\",\n",
    "    \"Sport\": \"All\"\n",
    "})"
   ]
  },
  {
   "cell_type": "code",
   "execution_count": null,
   "id": "25",
   "metadata": {},
   "outputs": [],
   "source": [
    "from datetime import datetime, timezone\n",
    "from tqdm.notebook import tqdm"
   ]
  },
  {
   "cell_type": "code",
   "execution_count": null,
   "id": "26",
   "metadata": {},
   "outputs": [],
   "source": [
    "df[\"id\"] = df[\"article_id\"].apply(lambda x: \"0\" + str(x))\n",
    "df[\"id\"]"
   ]
  },
  {
   "cell_type": "code",
   "execution_count": null,
   "id": "27",
   "metadata": {},
   "outputs": [],
   "source": [
    "store = vs.LocalCatalogStore(db_path=\"../data/catalogue_v1.db\")\n",
    "model_name = \"original\"\n",
    "force_update = False\n",
    "\n",
    "for i, img_path in tqdm(enumerate(image_list[:])):\n",
    "    img_path_str = str(img_path)\n",
    "    # if store.is_model_processed(img_path_str, model_name) and not force_update:\n",
    "    #     continue\n",
    "    model_name = \"original\"\n",
    "    if not df[df[\"id\"] == img_path.stem].empty:    \n",
    "        tags = {\n",
    "            \"model_name\": model_name,\n",
    "            \"confidence\": 1.0,\n",
    "            \"timestamp\": datetime.now(timezone.utc).isoformat(),\n",
    "            \"product_type\": df[df[\"id\"] == img_path.stem][\"product_type_name\"].values[0],\n",
    "            \"colour\": df[df[\"id\"] == img_path.stem][\"colour_group_name\"].values[0],\n",
    "            \"gender\": df[df[\"id\"] == img_path.stem][\"genre\"].values[0]\n",
    "        }\n",
    "    processing_status = {model_name: True}\n",
    "    store.insert_image(img_path_str, tags=tags, processing=processing_status, embeddings=None, force_update=True)"
   ]
  },
  {
   "cell_type": "markdown",
   "id": "28",
   "metadata": {},
   "source": [
    "# Checking the catalogue"
   ]
  },
  {
   "cell_type": "code",
   "execution_count": null,
   "id": "29",
   "metadata": {},
   "outputs": [],
   "source": [
    "store = vs.LocalCatalogStore(db_path=\"../data/catalogue_v1.db\")"
   ]
  },
  {
   "cell_type": "code",
   "execution_count": null,
   "id": "30",
   "metadata": {},
   "outputs": [],
   "source": [
    "Catalog = store.get_all_images()\n",
    "df_cat = pd.DataFrame(Catalog)\n"
   ]
  },
  {
   "cell_type": "code",
   "execution_count": null,
   "id": "31",
   "metadata": {},
   "outputs": [],
   "source": [
    "from collections import Counter\n",
    "from itertools import chain\n",
    "\n",
    "def count_key_occurrences(list_of_dicts):\n",
    "    \"\"\"Count how many times each key appears across all dictionaries.\"\"\"\n",
    "    all_keys = chain.from_iterable(d.keys() for d in list_of_dicts)\n",
    "    return Counter(all_keys)\n",
    "\n",
    "def count_key_occurrences_nested(list_of_list_of_dicts):\n",
    "    \"\"\"Count keys in a list of list of dictionaries.\"\"\"\n",
    "    all_keys = chain.from_iterable(\n",
    "        chain.from_iterable(d.keys() for d in sublist) \n",
    "        for sublist in list_of_list_of_dicts\n",
    "    )\n",
    "    return Counter(all_keys)\n",
    "\n",
    "key_counts = count_key_occurrences(df_cat[\"processing_status\"].to_list())\n",
    "print(key_counts)\n",
    "key_counts = count_key_occurrences_nested(df_cat[\"tags\"].to_list())\n",
    "print(key_counts)\n",
    "# Output: Counter({'model1': 5, 'model2': 3, 'model3': 2, ...})"
   ]
  },
  {
   "cell_type": "code",
   "execution_count": null,
   "id": "32",
   "metadata": {},
   "outputs": [],
   "source": []
  }
 ],
 "metadata": {
  "kernelspec": {
   "display_name": "my-mirror-on-cloud-py3.12",
   "language": "python",
   "name": "python3"
  },
  "language_info": {
   "codemirror_mode": {
    "name": "ipython",
    "version": 3
   },
   "file_extension": ".py",
   "mimetype": "text/x-python",
   "name": "python",
   "nbconvert_exporter": "python",
   "pygments_lexer": "ipython3",
   "version": "3.12.11"
  }
 },
 "nbformat": 4,
 "nbformat_minor": 5
}
