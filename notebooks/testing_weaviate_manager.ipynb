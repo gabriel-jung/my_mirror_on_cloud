{
 "cells": [
  {
   "cell_type": "markdown",
   "id": "0",
   "metadata": {},
   "source": [
    "## Testing weaviate_manager.py Module\n",
    "\n",
    "Handling connexion to the catalogues, for updates or search! For full update examples (see the update_catalogue_HM.py example)"
   ]
  },
  {
   "cell_type": "code",
   "execution_count": null,
   "id": "1",
   "metadata": {},
   "outputs": [],
   "source": [
    "%load_ext autoreload\n",
    "%autoreload 2"
   ]
  },
  {
   "cell_type": "code",
   "execution_count": null,
   "id": "2",
   "metadata": {},
   "outputs": [],
   "source": [
    "from my_mirror_on_cloud import weaviate_manager as wm"
   ]
  },
  {
   "cell_type": "code",
   "execution_count": null,
   "id": "3",
   "metadata": {},
   "outputs": [],
   "source": [
    "import pandas as pd"
   ]
  },
  {
   "cell_type": "code",
   "execution_count": null,
   "id": "4",
   "metadata": {},
   "outputs": [],
   "source": [
    "import weaviate.classes.config as wc"
   ]
  },
  {
   "cell_type": "markdown",
   "id": "5",
   "metadata": {},
   "source": [
    "### Simple connexion\n"
   ]
  },
  {
   "cell_type": "code",
   "execution_count": null,
   "id": "6",
   "metadata": {},
   "outputs": [],
   "source": [
    "with wm.WeaviateManager() as weaviate:\n",
    "    client = weaviate.get_client()\n",
    "    print(weaviate.list_collections())"
   ]
  },
  {
   "cell_type": "markdown",
   "id": "7",
   "metadata": {},
   "source": [
    "## Testing Search with small Farfetch catalogue (description)"
   ]
  },
  {
   "cell_type": "code",
   "execution_count": null,
   "id": "8",
   "metadata": {},
   "outputs": [],
   "source": [
    "df = pd.read_json(\"../results/farfetch.jsonl\", lines=True)\n",
    "df.head()"
   ]
  },
  {
   "cell_type": "code",
   "execution_count": null,
   "id": "9",
   "metadata": {},
   "outputs": [],
   "source": [
    "df_selected = df[df[\"model\"]==\"qwen2.5vl:7b\"][[\"image_name\", \"description\"]].reset_index(drop=True)\n",
    "df_selected.head()"
   ]
  },
  {
   "cell_type": "code",
   "execution_count": null,
   "id": "10",
   "metadata": {},
   "outputs": [],
   "source": [
    "### Creating test collection ! (with snowflake vectorizer for description text)\n",
    "\n",
    "collection_name = \"test_collection_farfetch\"\n",
    "\n",
    "with wm.WeaviateManager() as weaviate:\n",
    "    client = weaviate.create_collection(\n",
    "        collection_name=collection_name,\n",
    "        properties=[\n",
    "            wc.Property(name=\"image_name\", data_type=wc.DataType.TEXT),\n",
    "            wc.Property(name=\"description\", data_type=wc.DataType.TEXT),\n",
    "        ],\n",
    "        vector_config=[\n",
    "            wc.Configure.Vectors.text2vec_weaviate(\n",
    "                name=\"main_vector\",\n",
    "                model=\"Snowflake/snowflake-arctic-embed-l-v2.0\",\n",
    "                source_properties=[\"description\"],\n",
    "            )\n",
    "        ],\n",
    "        force_creation=True,\n",
    "    )\n",
    "    \n",
    "    print(weaviate.list_collections())\n",
    "    print(weaviate.get_properties_of_collection(collection_name))"
   ]
  },
  {
   "cell_type": "code",
   "execution_count": null,
   "id": "11",
   "metadata": {},
   "outputs": [],
   "source": [
    "### format the data for batch inserting\n",
    " \n",
    "formated_data = df_selected.to_dict(orient=\"records\")\n",
    "formated_data = [{\"properties\": record} for record in formated_data]\n",
    "formated_data[:3]"
   ]
  },
  {
   "cell_type": "code",
   "execution_count": null,
   "id": "12",
   "metadata": {},
   "outputs": [],
   "source": [
    "### fill the collection\n",
    "\n",
    "with wm.WeaviateManager() as weaviate:\n",
    "    weaviate.batch_insert_objects_to_collection(\n",
    "        collection_name=collection_name,\n",
    "        objects_data=formated_data,\n",
    "        batch_size=200,\n",
    "        show_progress=True\n",
    "    )"
   ]
  },
  {
   "cell_type": "code",
   "execution_count": null,
   "id": "13",
   "metadata": {},
   "outputs": [],
   "source": [
    "### Searching in the collection\n",
    "\n",
    "collection_name = \"test_collection_farfetch\"\n",
    "query_text = \"red dress with flowers\"\n",
    "limit = 5\n",
    "\n",
    "with wm.WeaviateManager() as weaviate:\n",
    "    results = weaviate.search_by_text(\n",
    "        collection_name=collection_name,\n",
    "        query=query_text,\n",
    "        limit=limit\n",
    "    )\n",
    "    "
   ]
  },
  {
   "cell_type": "code",
   "execution_count": null,
   "id": "14",
   "metadata": {},
   "outputs": [],
   "source": [
    "from pprint import pprint\n",
    "pprint(results)"
   ]
  },
  {
   "cell_type": "code",
   "execution_count": null,
   "id": "15",
   "metadata": {},
   "outputs": [],
   "source": [
    "import matplotlib.image as mpimg\n",
    "import matplotlib.pyplot as plt\n",
    "from pathlib import Path\n",
    "cols=5\n",
    "rows=cols//limit\n",
    "fig, axes = plt.subplots(rows, cols, figsize=(2*cols, 2*rows))\n",
    "axes = axes.flatten()  \n",
    "\n",
    "relative_path = \"../data/farfetch/images/\"\n",
    "\n",
    "images = [relative_path + item.properties[\"image_name\"] for item in results.objects]\n",
    "\n",
    "for i, ax in enumerate(axes):\n",
    "    img = mpimg.imread(str(images[i]))\n",
    "    ax.imshow(img)\n",
    "    ax.set_title(Path(f\"{images[i]}\").name, fontsize=8)  \n",
    "    ax.axis('off')  \n",
    "else:\n",
    "    ax.axis('off')  \n",
    "\n",
    "plt.tight_layout()\n",
    "plt.show()\n"
   ]
  },
  {
   "cell_type": "markdown",
   "id": "16",
   "metadata": {},
   "source": [
    "## Testing Search with small Farfetch catalogue (fashionclip)"
   ]
  },
  {
   "cell_type": "code",
   "execution_count": null,
   "id": "17",
   "metadata": {},
   "outputs": [],
   "source": [
    "collection_name = \"test_collection_farfetch2\""
   ]
  },
  {
   "cell_type": "code",
   "execution_count": null,
   "id": "18",
   "metadata": {},
   "outputs": [],
   "source": [
    "with wm.WeaviateManager() as weaviate:\n",
    "    client = weaviate.create_collection(\n",
    "        collection_name=collection_name,\n",
    "        properties=[\n",
    "            wc.Property(name=\"image_name\", data_type=wc.DataType.TEXT),\n",
    "            ],\n",
    "        vector_config=[\n",
    "            wc.Configure.Vectors.self_provided(\n",
    "                name=\"vector_fashionclip\",\n",
    "                vector_index_config=wc.Configure.VectorIndex.hnsw(\n",
    "                    distance_metric=wc.VectorDistances.COSINE\n",
    "                )\n",
    "            )\n",
    "        ],\n",
    "        force_creation=True,\n",
    "    )\n",
    "    \n",
    "    print(weaviate.list_collections())\n",
    "    print(weaviate.get_properties_of_collection(collection_name))"
   ]
  },
  {
   "cell_type": "code",
   "execution_count": null,
   "id": "19",
   "metadata": {},
   "outputs": [],
   "source": [
    "# Get image vectors\n",
    "from pathlib import Path\n",
    "from my_mirror_on_cloud import embedding_manager as em\n",
    "\n",
    "image_paths = Path('../data/farfetch/images').glob('*.jpg')\n",
    "image_list = [str(p) for p in image_paths]\n",
    "print(f\"Found {len(image_list)} images, \", image_list[0])\n",
    "\n",
    "vectors = em.vectorize_images(\n",
    "    image_list, model_name=\"fashion-clip\", batch_size=100, use_float16=True,\n",
    ")\n",
    "formated_data = [\n",
    "    {\n",
    "        \"properties\": {\n",
    "            \"image_name\": Path(img).name,\n",
    "        },\n",
    "        \"vectors\": {\n",
    "            \"vector_fashionclip\": vector[\"embedding\"]\n",
    "        }\n",
    "    }\n",
    "    for img, vector in zip(image_list, vectors)\n",
    "]"
   ]
  },
  {
   "cell_type": "code",
   "execution_count": null,
   "id": "20",
   "metadata": {},
   "outputs": [],
   "source": [
    "### fill the collection\n",
    "\n",
    "with wm.WeaviateManager() as weaviate:\n",
    "    weaviate.batch_insert_objects_to_collection(\n",
    "        collection_name=collection_name,\n",
    "        objects_data=formated_data,\n",
    "        batch_size=200,\n",
    "        show_progress=True\n",
    "    )"
   ]
  },
  {
   "cell_type": "code",
   "execution_count": null,
   "id": "21",
   "metadata": {},
   "outputs": [],
   "source": [
    "## Load one image from H&M for search\n",
    "\n",
    "import matplotlib.pyplot as plt\n",
    "import matplotlib.image as mpimg\n",
    "\n",
    "image1 =  \"../data/h-and-m-personalized-fashion-recommendations/images/093/0930409001.jpg\"\n",
    "\n",
    "fig, axes = plt.subplots(1, 1, figsize=(3, 3))\n",
    "\n",
    "img = mpimg.imread(image1)\n",
    "axes.imshow(img)\n",
    "axes.axis('off')  \n",
    "\n",
    "plt.tight_layout()\n",
    "plt.show()"
   ]
  },
  {
   "cell_type": "code",
   "execution_count": null,
   "id": "22",
   "metadata": {},
   "outputs": [],
   "source": [
    "query_vector = em.vectorize_images([image1], model_name=\"fashion-clip\")[0][\"embedding\"]\n",
    "\n",
    "with wm.WeaviateManager() as weaviate:\n",
    "    results = weaviate.search_by_vector(\n",
    "        collection_name=collection_name,\n",
    "        query_vector=query_vector,\n",
    "        limit=5,\n",
    "        target_vector=\"vector_fashionclip\"\n",
    "    )"
   ]
  },
  {
   "cell_type": "code",
   "execution_count": null,
   "id": "23",
   "metadata": {},
   "outputs": [],
   "source": []
  },
  {
   "cell_type": "code",
   "execution_count": null,
   "id": "24",
   "metadata": {},
   "outputs": [],
   "source": [
    "## try the same with a fashion-clip vector generated from text\n",
    "\n",
    "query_text_vector = em.vectorize_texts(\n",
    "    [\"red dress with flowers\"], model_name=\"fashion-clip\"\n",
    ")[0][\"embedding\"]\n",
    "\n",
    "with wm.WeaviateManager() as weaviate:\n",
    "    results = weaviate.search_by_vector(\n",
    "        collection_name=collection_name,\n",
    "        query_vector=query_text_vector,\n",
    "        limit=5,\n",
    "        target_vector=\"vector_fashionclip\",\n",
    "        certainty=0.1 ### had to lower certainty to get results (default is 0.7)\n",
    "    )"
   ]
  },
  {
   "cell_type": "code",
   "execution_count": null,
   "id": "25",
   "metadata": {},
   "outputs": [],
   "source": [
    "results.objects"
   ]
  },
  {
   "cell_type": "code",
   "execution_count": null,
   "id": "26",
   "metadata": {},
   "outputs": [],
   "source": [
    "cols=5\n",
    "rows=cols//limit\n",
    "fig, axes = plt.subplots(rows, cols, figsize=(2*cols, 2*rows))\n",
    "axes = axes.flatten()  \n",
    "\n",
    "relative_path = \"../data/farfetch/images/\"\n",
    "\n",
    "images = [relative_path + item.properties[\"image_name\"] for item in results.objects]\n",
    "\n",
    "for i, ax in enumerate(axes):\n",
    "    img = mpimg.imread(str(images[i]))\n",
    "    ax.imshow(img)\n",
    "    ax.set_title(Path(f\"{images[i]}\").name, fontsize=8)  \n",
    "    ax.axis('off')  \n",
    "else:\n",
    "    ax.axis('off')  \n",
    "\n",
    "plt.tight_layout()\n",
    "plt.show()"
   ]
  },
  {
   "cell_type": "markdown",
   "id": "27",
   "metadata": {},
   "source": [
    "## Full Detailed Example with H&M catalogue (but the script is better)"
   ]
  },
  {
   "cell_type": "code",
   "execution_count": null,
   "id": "28",
   "metadata": {},
   "outputs": [],
   "source": [
    "import my_mirror_on_cloud.vector_store as vs"
   ]
  },
  {
   "cell_type": "code",
   "execution_count": null,
   "id": "29",
   "metadata": {},
   "outputs": [],
   "source": [
    "import pandas as pd"
   ]
  },
  {
   "cell_type": "code",
   "execution_count": null,
   "id": "30",
   "metadata": {},
   "outputs": [],
   "source": [
    "CatalogStore = vs.LocalCatalogStore(db_path=\"../data/catalogue_v1.db\")\n"
   ]
  },
  {
   "cell_type": "code",
   "execution_count": null,
   "id": "31",
   "metadata": {},
   "outputs": [],
   "source": [
    "CatalogStore.get_all_columns()"
   ]
  },
  {
   "cell_type": "code",
   "execution_count": null,
   "id": "32",
   "metadata": {},
   "outputs": [],
   "source": [
    "Catalog = CatalogStore.get_all_images()\n",
    "Catalog[0:2]"
   ]
  },
  {
   "cell_type": "code",
   "execution_count": null,
   "id": "33",
   "metadata": {},
   "outputs": [],
   "source": [
    "df = pd.DataFrame(Catalog)\n",
    "df.head()"
   ]
  },
  {
   "cell_type": "code",
   "execution_count": null,
   "id": "34",
   "metadata": {},
   "outputs": [],
   "source": [
    "from weaviate.util import generate_uuid5\n",
    "\n",
    "df[\"uuid\"] = df[\"image_path\"].apply(lambda x: generate_uuid5(x))\n",
    "df.head()"
   ]
  },
  {
   "cell_type": "code",
   "execution_count": null,
   "id": "35",
   "metadata": {},
   "outputs": [],
   "source": [
    "from tqdm.notebook import tqdm"
   ]
  },
  {
   "cell_type": "code",
   "execution_count": null,
   "id": "36",
   "metadata": {},
   "outputs": [],
   "source": [
    "all_data = []\n",
    "\n",
    "for i, row in tqdm(enumerate(df.itertuples())):\n",
    "\n",
    "    item_data = {\n",
    "        \"uuid\": row.uuid,\n",
    "        \"image_path\": row.image_path,\n",
    "    }\n",
    "    for embedding in row.embeddings:\n",
    "        item_data.update(\n",
    "            {\n",
    "                f\"vector_{embedding['model_name']}\".replace(\"-\", \"\"): embedding['embedding'],\n",
    "                f\"timestamp_{embedding['model_name']}\".replace(\"-\", \"\"): embedding['timestamp'],\n",
    "                f\"confidence_{embedding['model_name']}\".replace(\"-\", \"\"): embedding['confidence'],\n",
    "            }\n",
    "        )\n",
    "    # for tag in row.tags:\n",
    "    #     item_data.update({\n",
    "    #         f\"description_{tag['model_name']}\": tag['embedding'],\n",
    "    #         f\"timestamp_{tag['model_name']}\": tag['timestamp'],\n",
    "    #         f\"confidence_{tag['model_name']}\": tag['confidence'],\n",
    "    #     })\n",
    "        \n",
    "        \n",
    "    all_data.append(item_data)\n"
   ]
  },
  {
   "cell_type": "code",
   "execution_count": null,
   "id": "37",
   "metadata": {},
   "outputs": [],
   "source": [
    "from itertools import chain\n",
    "\n",
    "def get_unique_keys(list_of_dicts):\n",
    "    \"\"\"Get all unique keys from a list of dictionaries\"\"\"\n",
    "    unique_keys = set(chain.from_iterable(d.keys() for d in list_of_dicts))\n",
    "    return list(unique_keys)\n",
    "\n",
    "unique_keys = get_unique_keys(all_data)\n",
    "vector_keys = [key.replace('-', '') for key in unique_keys if key.startswith(\"vector_\")]\n",
    "nonvector_keys = [key.replace('-', '') for key in unique_keys if not key.startswith(\"vector_\") and key != \"uuid\"]\n",
    "uuid_keys = [key for key in unique_keys if key == \"uuid\"]\n",
    "print(\"Vector keys:\", vector_keys)\n",
    "print(\"Non-vector keys:\", nonvector_keys)\n",
    "print(\"UUID keys:\", uuid_keys)"
   ]
  },
  {
   "cell_type": "code",
   "execution_count": null,
   "id": "38",
   "metadata": {},
   "outputs": [],
   "source": [
    "formated_data = []\n",
    "for item in all_data:\n",
    "    item_data = {\"vector\":{}, \"properties\":{}, \"uuid\":None}\n",
    "    for key in vector_keys:\n",
    "        if key in item and item[key] is not None:\n",
    "            item_data[\"vector\"][key] = item[key]\n",
    "    for key in nonvector_keys:\n",
    "        if key in item and item[key] is not None:\n",
    "            item_data[\"properties\"][key] = item[key]\n",
    "    for key in uuid_keys:\n",
    "        if key in item and item[key] is not None:\n",
    "            item_data[\"uuid\"] = item[key]\n",
    "    formated_data.append(item_data)"
   ]
  },
  {
   "cell_type": "code",
   "execution_count": null,
   "id": "39",
   "metadata": {},
   "outputs": [],
   "source": [
    "formated_data[0]"
   ]
  },
  {
   "cell_type": "code",
   "execution_count": null,
   "id": "40",
   "metadata": {},
   "outputs": [],
   "source": [
    "with wm.WeaviateManager() as weaviate:\n",
    "    client = weaviate.create_collection(\n",
    "        collection_name=\"Catalogue_HM\",\n",
    "        force_creation=True,\n",
    "        properties=[\n",
    "            wc.Property(name=\"image_path\", data_type=wc.DataType.TEXT),\n",
    "            wc.Property(name=\"timestamp_fashionclip\", data_type=wc.DataType.TEXT),\n",
    "            wc.Property(name=\"confidence_fashionclip\", data_type=wc.DataType.NUMBER),\n",
    "        ],\n",
    "        vector_config=[\n",
    "            wc.Configure.Vectors.self_provided(\n",
    "                name=key,\n",
    "                vector_index_config=wc.Configure.VectorIndex.hnsw(\n",
    "                    distance_metric=wc.VectorDistances.COSINE\n",
    "                ),\n",
    "            )\n",
    "            for key in vector_keys\n",
    "        ]    )\n",
    "    weaviate.batch_insert_objects_to_collection(\n",
    "        collection_name=\"Catalogue_HM\",\n",
    "        objects_data=formated_data,\n",
    "        batch_size=50,\n",
    "        show_progress=True\n",
    "    )"
   ]
  },
  {
   "cell_type": "code",
   "execution_count": null,
   "id": "41",
   "metadata": {},
   "outputs": [],
   "source": []
  }
 ],
 "metadata": {
  "kernelspec": {
   "display_name": "my-mirror-on-cloud-py3.12",
   "language": "python",
   "name": "python3"
  },
  "language_info": {
   "codemirror_mode": {
    "name": "ipython",
    "version": 3
   },
   "file_extension": ".py",
   "mimetype": "text/x-python",
   "name": "python",
   "nbconvert_exporter": "python",
   "pygments_lexer": "ipython3",
   "version": "3.12.11"
  }
 },
 "nbformat": 4,
 "nbformat_minor": 5
}
