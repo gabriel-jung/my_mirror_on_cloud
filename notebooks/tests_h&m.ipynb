{
 "cells": [
  {
   "cell_type": "markdown",
   "id": "0",
   "metadata": {},
   "source": [
    "## Have a quick look at H&M catalogues\n",
    "\n",
    "See https://www.kaggle.com/competitions/h-and-m-personalized-fashion-recommendations/data for more information"
   ]
  },
  {
   "cell_type": "markdown",
   "id": "1",
   "metadata": {},
   "source": [
    "## Python Import"
   ]
  },
  {
   "cell_type": "code",
   "execution_count": null,
   "id": "2",
   "metadata": {},
   "outputs": [],
   "source": [
    "import pandas as pd"
   ]
  },
  {
   "cell_type": "markdown",
   "id": "3",
   "metadata": {},
   "source": [
    "## Main CSV"
   ]
  },
  {
   "cell_type": "markdown",
   "id": "4",
   "metadata": {},
   "source": [
    "### Load and easy checks"
   ]
  },
  {
   "cell_type": "code",
   "execution_count": null,
   "id": "5",
   "metadata": {},
   "outputs": [],
   "source": [
    "df = pd.read_csv(\"../data/H&M/articles.csv\")\n",
    "df.head()"
   ]
  },
  {
   "cell_type": "code",
   "execution_count": null,
   "id": "6",
   "metadata": {},
   "outputs": [],
   "source": [
    "df.shape, df.columns"
   ]
  },
  {
   "cell_type": "code",
   "execution_count": null,
   "id": "7",
   "metadata": {},
   "outputs": [],
   "source": [
    "df.duplicated().sum()"
   ]
  },
  {
   "cell_type": "code",
   "execution_count": null,
   "id": "8",
   "metadata": {},
   "outputs": [],
   "source": [
    "df.isna().sum()"
   ]
  },
  {
   "cell_type": "code",
   "execution_count": null,
   "id": "9",
   "metadata": {},
   "outputs": [],
   "source": [
    "df.nunique()"
   ]
  },
  {
   "cell_type": "markdown",
   "id": "10",
   "metadata": {},
   "source": [
    "### Looks quite clean, only missing a few descriptions!"
   ]
  },
  {
   "cell_type": "code",
   "execution_count": null,
   "id": "11",
   "metadata": {},
   "outputs": [],
   "source": [
    "import matplotlib.pyplot as plt\n",
    "import seaborn as sns\n",
    "import plotly.express as px"
   ]
  },
  {
   "cell_type": "code",
   "execution_count": null,
   "id": "12",
   "metadata": {},
   "outputs": [],
   "source": [
    "df.columns"
   ]
  },
  {
   "cell_type": "code",
   "execution_count": null,
   "id": "13",
   "metadata": {},
   "outputs": [],
   "source": [
    "# Improved Plotly histograms with better formatting\n",
    "def create_histogram_plotly(df, column, title_suffix=\"\"):\n",
    "    \"\"\"Create a horizontal histogram with improved formatting\"\"\"\n",
    "    fig = px.histogram(\n",
    "        df, \n",
    "        y=column,\n",
    "        title=f'Distribution of {title_suffix or column.replace(\"_\", \" \").title()}',\n",
    "        labels={'count': 'Frequency', column: column.replace('_', ' ').title()},\n",
    "        height=max(400, len(df[column].unique()) * 20),  # Dynamic height based on categories\n",
    "        orientation='h'  # Horizontal orientation for better readability of long names\n",
    "    )\n",
    "    \n",
    "    # Improve layout\n",
    "    fig.update_layout(\n",
    "        xaxis_title=\"Frequency\",\n",
    "        yaxis_title=column.replace('_', ' ').title(),\n",
    "        showlegend=False,\n",
    "        margin=dict(l=200, r=50, t=50, b=50),  # Adjust margins for long labels\n",
    "        font=dict(size=12)\n",
    "    )\n",
    "    \n",
    "    # Sort bars by frequency\n",
    "    fig.update_yaxes(categoryorder=\"total ascending\")\n",
    "    \n",
    "    return fig\n",
    "\n",
    "# Your original columns\n",
    "fig1 = create_histogram_plotly(df, 'colour_group_name', 'Colour Groups')\n",
    "fig2 = create_histogram_plotly(df, 'perceived_colour_value_name', 'Perceived Colour Values')\n",
    "\n",
    "# Product-related distributions\n",
    "fig3 = create_histogram_plotly(df, 'product_type_name', 'Product Types')\n",
    "fig4 = create_histogram_plotly(df, 'product_group_name', 'Product Groups')\n",
    "fig5 = create_histogram_plotly(df, 'garment_group_name', 'Garment Groups')\n",
    "\n",
    "# Department and organization\n",
    "fig6 = create_histogram_plotly(df, 'department_name', 'Departments')\n",
    "fig7 = create_histogram_plotly(df, 'section_name', 'Sections')\n",
    "fig8 = create_histogram_plotly(df, 'index_name', 'Index Names')\n",
    "\n",
    "# Appearance-related\n",
    "fig9 = create_histogram_plotly(df, 'graphical_appearance_name', 'Graphical Appearances')\n",
    "fig10 = create_histogram_plotly(df, 'perceived_colour_master_name', 'Master Colour Categories')\n",
    "\n",
    "# Display all additional plots\n",
    "for fig in [fig3, fig4, fig5, fig6, fig7, fig8, fig9, fig10]:\n",
    "    fig.show()\n"
   ]
  },
  {
   "cell_type": "code",
   "execution_count": null,
   "id": "14",
   "metadata": {},
   "outputs": [],
   "source": [
    "df['colour_group_name'].unique()"
   ]
  },
  {
   "cell_type": "code",
   "execution_count": null,
   "id": "15",
   "metadata": {},
   "outputs": [],
   "source": [
    "df[\"product_type_name\"].value_counts().index.to_list()"
   ]
  },
  {
   "cell_type": "markdown",
   "id": "16",
   "metadata": {},
   "source": []
  }
 ],
 "metadata": {
  "kernelspec": {
   "display_name": "my-mirror-on-cloud-py3.12",
   "language": "python",
   "name": "python3"
  },
  "language_info": {
   "codemirror_mode": {
    "name": "ipython",
    "version": 3
   },
   "file_extension": ".py",
   "mimetype": "text/x-python",
   "name": "python",
   "nbconvert_exporter": "python",
   "pygments_lexer": "ipython3",
   "version": "3.12.11"
  }
 },
 "nbformat": 4,
 "nbformat_minor": 5
}
