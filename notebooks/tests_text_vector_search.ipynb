{
 "cells": [
  {
   "cell_type": "markdown",
   "id": "0",
   "metadata": {},
   "source": [
    "## Checking vector search on text description!"
   ]
  },
  {
   "cell_type": "code",
   "execution_count": null,
   "id": "1",
   "metadata": {},
   "outputs": [],
   "source": [
    "from tqdm.notebook import tqdm"
   ]
  },
  {
   "cell_type": "code",
   "execution_count": null,
   "id": "2",
   "metadata": {},
   "outputs": [],
   "source": [
    "%load_ext autoreload\n",
    "%autoreload 2"
   ]
  },
  {
   "cell_type": "code",
   "execution_count": null,
   "id": "3",
   "metadata": {},
   "outputs": [],
   "source": [
    "import os\n",
    "from dotenv import load_dotenv\n",
    "\n",
    "load_dotenv()\n",
    "\n",
    "WEAVIATE_URL = os.getenv(\"WEAVIATE_URL\")\n",
    "WEAVIATE_KEY = os.getenv(\"WEAVIATE_KEY\")\n",
    "\n",
    "print(WEAVIATE_URL)\n",
    "print(WEAVIATE_KEY)"
   ]
  },
  {
   "cell_type": "code",
   "execution_count": null,
   "id": "4",
   "metadata": {},
   "outputs": [],
   "source": [
    "import weaviate\n",
    "from weaviate.classes.init import Auth\n",
    "\n",
    "client = weaviate.connect_to_weaviate_cloud(\n",
    "    cluster_url=WEAVIATE_URL,\n",
    "    auth_credentials=Auth.api_key(WEAVIATE_KEY),\n",
    ")\n",
    "\n",
    "client.is_ready()"
   ]
  },
  {
   "cell_type": "markdown",
   "id": "5",
   "metadata": {},
   "source": [
    "## Get local data"
   ]
  },
  {
   "cell_type": "code",
   "execution_count": null,
   "id": "6",
   "metadata": {},
   "outputs": [],
   "source": [
    "import pandas as pd"
   ]
  },
  {
   "cell_type": "code",
   "execution_count": null,
   "id": "7",
   "metadata": {},
   "outputs": [],
   "source": [
    "df = pd.read_json(\"../results/farfetch.jsonl\", lines=True)\n",
    "df.head()\n"
   ]
  },
  {
   "cell_type": "code",
   "execution_count": null,
   "id": "8",
   "metadata": {},
   "outputs": [],
   "source": [
    "df_selected = df[df[\"model\"]==\"qwen2.5vl:7b\"][[\"image_name\", \"description\"]].reset_index(drop=True)\n",
    "df_selected.head()"
   ]
  },
  {
   "cell_type": "code",
   "execution_count": null,
   "id": "9",
   "metadata": {},
   "outputs": [],
   "source": [
    "import weaviate.classes.config as wc\n",
    "\n",
    "if client.collections.exists(\"Farfetch\"):\n",
    "    client.collections.delete(\"Farfetch\")\n",
    "\n",
    "client.collections.create(\n",
    "    name=\"Farfetch\",\n",
    "    properties=[\n",
    "        wc.Property(name=\"image_name\", data_type=wc.DataType.TEXT),\n",
    "        wc.Property(name=\"description\", data_type=wc.DataType.TEXT),\n",
    "    ],\n",
    "    vector_config=[\n",
    "        wc.Configure.Vectors.text2vec_weaviate(\n",
    "            name=\"main_vector\",\n",
    "            model=\"Snowflake/snowflake-arctic-embed-l-v2.0\",\n",
    "            source_properties=[\"description\"],\n",
    "        )\n",
    "    ],\n",
    ")"
   ]
  },
  {
   "cell_type": "code",
   "execution_count": null,
   "id": "10",
   "metadata": {},
   "outputs": [],
   "source": [
    "farfetch = client.collections.get(\"Farfetch\")\n",
    "\n",
    "with farfetch.batch.dynamic() as batch:\n",
    "    for index, row in tqdm(df_selected.iterrows()):\n",
    "        batch.add_object(\n",
    "            properties={\n",
    "                \"image_name\": row[\"image_name\"],\n",
    "                \"description\": row[\"description\"]\n",
    "            }\n",
    "        )\n",
    "\n",
    "print(f\"Farfetch count: {len(farfetch)}\")"
   ]
  },
  {
   "cell_type": "code",
   "execution_count": null,
   "id": "11",
   "metadata": {},
   "outputs": [],
   "source": [
    "from pprint import pprint"
   ]
  },
  {
   "cell_type": "code",
   "execution_count": null,
   "id": "12",
   "metadata": {},
   "outputs": [],
   "source": [
    "farfetch = client.collections.get(\"Farfetch\")\n",
    "\n",
    "response = farfetch.query.near_text(\n",
    "    query=\"red dress\",\n",
    "    limit=5\n",
    ")\n",
    "\n",
    "# for item in response.objects:\n",
    "#     pprint(item)"
   ]
  },
  {
   "cell_type": "code",
   "execution_count": null,
   "id": "13",
   "metadata": {},
   "outputs": [],
   "source": []
  },
  {
   "cell_type": "code",
   "execution_count": null,
   "id": "14",
   "metadata": {},
   "outputs": [],
   "source": [
    "import matplotlib.image as mpimg\n",
    "import matplotlib.pyplot as plt\n",
    "\n",
    "from pathlib import Path\n",
    "\n",
    "def query_and_display(collection, query_text, limit=5, relative_path=\"../data/farfetch/images/\"):\n",
    "    \n",
    "    collection = client.collections.get(collection)\n",
    "    \n",
    "    response = collection.query.near_text(\n",
    "        query=query_text,\n",
    "        limit=limit\n",
    "    )\n",
    "\n",
    "    cols=5\n",
    "    rows=cols//limit\n",
    "    fig, axes = plt.subplots(rows, cols, figsize=(2*cols, 2*rows))\n",
    "    axes = axes.flatten()  # Convert 2D array to 1D for easier indexing\n",
    "    \n",
    "    images = [relative_path + item.properties[\"image_name\"] for item in response.objects]\n",
    "\n",
    "    for i, ax in enumerate(axes):\n",
    "        img = mpimg.imread(str(images[i]))\n",
    "        ax.imshow(img)\n",
    "        ax.set_title(f\"{Path(images[i]).name}\", fontsize=8)  # Optional: show filename\n",
    "        ax.axis('off')  # Remove axes\n",
    "    else:\n",
    "        ax.axis('off')  # Hide empty subplots\n",
    "\n",
    "    plt.tight_layout()\n",
    "    plt.show()\n"
   ]
  },
  {
   "cell_type": "code",
   "execution_count": null,
   "id": "15",
   "metadata": {},
   "outputs": [],
   "source": [
    "query_and_display(\"Farfetch\", \"\", limit=5)"
   ]
  },
  {
   "cell_type": "code",
   "execution_count": null,
   "id": "16",
   "metadata": {},
   "outputs": [],
   "source": []
  }
 ],
 "metadata": {
  "kernelspec": {
   "display_name": "my-mirror-on-cloud-py3.12",
   "language": "python",
   "name": "python3"
  },
  "language_info": {
   "codemirror_mode": {
    "name": "ipython",
    "version": 3
   },
   "file_extension": ".py",
   "mimetype": "text/x-python",
   "name": "python",
   "nbconvert_exporter": "python",
   "pygments_lexer": "ipython3",
   "version": "3.12.11"
  }
 },
 "nbformat": 4,
 "nbformat_minor": 5
}
